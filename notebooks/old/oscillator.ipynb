{
 "cells": [
  {
   "cell_type": "markdown",
   "metadata": {},
   "source": [
    "# Training with Open Loop Oscillator\n",
    "\n",
    "#### 1. Declare the network structure and the training parameters"
   ]
  },
  {
   "cell_type": "code",
   "execution_count": 10,
   "metadata": {},
   "outputs": [
    {
     "name": "stdout",
     "output_type": "stream",
     "text": [
      "The autoreload extension is already loaded. To reload it, use:\n",
      "  %reload_ext autoreload\n"
     ]
    }
   ],
   "source": [
    "%load_ext autoreload\n",
    "%autoreload\n",
    "%matplotlib ipympl\n",
    "\n",
    "import network\n",
    "import utils\n",
    "\n",
    "from keras.losses import mean_absolute_error, mean_squared_error\n",
    "\n",
    "def custom_loss(y_true, y_pred):\n",
    "    mae = mean_absolute_error(y_true, y_pred)\n",
    "    mse = mean_squared_error(y_true, y_pred)\n",
    "    return (mae + mse)\n",
    "\n",
    "nn_layers = [[('osc',)],\n",
    "             [('td', 3, 2)],\n",
    "             [('relu', 40)],\n",
    "             [('relu', 40)],\n",
    "             [('relu', 30)]\n",
    "            ]\n",
    "batch_size     = 2048\n",
    "max_epochs     = 500\n",
    "stop_patience  = 150\n",
    "regularization = 0.1\n",
    "metric         = \"mae\"  #custom_loss#\"mse\"\n",
    "optimizer      = \"adam\"\n",
    "\n",
    "data_file      = \"data/sims/tc.pkl\"\n",
    "save_folder    = \"data/nn_learning/\"+ utils.timestamp()\n",
    "verbose        = -1\n",
    "\n",
    "utils.mkdir(save_folder)"
   ]
  },
  {
   "cell_type": "markdown",
   "metadata": {},
   "source": [
    "#### 2. Instanciate the network"
   ]
  },
  {
   "cell_type": "code",
   "execution_count": 11,
   "metadata": {},
   "outputs": [],
   "source": [
    "nn = network.FeedForwardNN(data_file=data_file,\n",
    "                           batch_size=batch_size,\n",
    "                           max_epochs=max_epochs,\n",
    "                           optim=optimizer,\n",
    "                           metric=metric,\n",
    "                           stop_pat=stop_patience,\n",
    "                           save_folder=save_folder,\n",
    "                           nn_layers=nn_layers,\n",
    "                           verbose=verbose)"
   ]
  },
  {
   "cell_type": "markdown",
   "metadata": {},
   "source": [
    "#### 3. Train it!"
   ]
  },
  {
   "cell_type": "code",
   "execution_count": 12,
   "metadata": {},
   "outputs": [
    {
     "data": {
      "application/vnd.jupyter.widget-view+json": {
       "model_id": "b3d7944a65d54390b8b9175af7a11ff1",
       "version_major": 2,
       "version_minor": 0
      },
      "text/plain": [
       "HBox(children=(IntProgress(value=0, max=500), HTML(value=u'')))"
      ]
     },
     "metadata": {},
     "output_type": "display_data"
    },
    {
     "name": "stdout",
     "output_type": "stream",
     "text": [
      "_________________________________________________________________\n",
      "Layer (type)                 Output Shape              Param #   \n",
      "=================================================================\n",
      "robot_state (InputLayer)     (None, 3, 1)              0         \n",
      "_________________________________________________________________\n",
      "flatten_3 (Flatten)          (None, 3)                 0         \n",
      "_________________________________________________________________\n",
      "dense_9 (Dense)              (None, 40)                160       \n",
      "_________________________________________________________________\n",
      "activation_7 (Activation)    (None, 40)                0         \n",
      "_________________________________________________________________\n",
      "dense_10 (Dense)             (None, 40)                1640      \n",
      "_________________________________________________________________\n",
      "activation_8 (Activation)    (None, 40)                0         \n",
      "_________________________________________________________________\n",
      "dense_11 (Dense)             (None, 30)                1230      \n",
      "_________________________________________________________________\n",
      "activation_9 (Activation)    (None, 30)                0         \n",
      "_________________________________________________________________\n",
      "dense_12 (Dense)             (None, 24)                744       \n",
      "=================================================================\n",
      "Total params: 3,774\n",
      "Trainable params: 3,774\n",
      "Non-trainable params: 0\n",
      "_________________________________________________________________\n"
     ]
    },
    {
     "data": {
      "application/vnd.jupyter.widget-view+json": {
       "model_id": "4840c586b0434e16ae4f290c8d592917",
       "version_major": 2,
       "version_minor": 0
      },
      "text/plain": [
       "FigureCanvasNbAgg()"
      ]
     },
     "metadata": {},
     "output_type": "display_data"
    }
   ],
   "source": [
    "loss, acc = nn.train(show=False)"
   ]
  },
  {
   "cell_type": "code",
   "execution_count": 9,
   "metadata": {},
   "outputs": [
    {
     "data": {
      "application/vnd.jupyter.widget-view+json": {
       "model_id": "",
       "version_major": 2,
       "version_minor": 0
      },
      "text/plain": [
       "FigureCanvasNbAgg()"
      ]
     },
     "metadata": {},
     "output_type": "display_data"
    },
    {
     "data": {
      "application/vnd.jupyter.widget-view+json": {
       "model_id": "",
       "version_major": 2,
       "version_minor": 0
      },
      "text/plain": [
       "FigureCanvasNbAgg()"
      ]
     },
     "metadata": {},
     "output_type": "display_data"
    },
    {
     "data": {
      "application/vnd.jupyter.widget-view+json": {
       "model_id": "",
       "version_major": 2,
       "version_minor": 0
      },
      "text/plain": [
       "FigureCanvasNbAgg()"
      ]
     },
     "metadata": {},
     "output_type": "display_data"
    }
   ],
   "source": [
    "%matplotlib ipympl\n",
    "y_truth, y_pred, score = nn.evaluate()"
   ]
  },
  {
   "cell_type": "code",
   "execution_count": null,
   "metadata": {},
   "outputs": [],
   "source": []
  }
 ],
 "metadata": {
  "kernelspec": {
   "display_name": "Python 2",
   "language": "python",
   "name": "python2"
  },
  "language_info": {
   "codemirror_mode": {
    "name": "ipython",
    "version": 2
   },
   "file_extension": ".py",
   "mimetype": "text/x-python",
   "name": "python",
   "nbconvert_exporter": "python",
   "pygments_lexer": "ipython2",
   "version": "2.7.12"
  }
 },
 "nbformat": 4,
 "nbformat_minor": 2
}
