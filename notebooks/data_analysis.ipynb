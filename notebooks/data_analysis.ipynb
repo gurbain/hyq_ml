{
 "cells": [
  {
   "cell_type": "heading",
   "metadata": {},
   "level": 1,
   "source": [
    "Plot the joint signal with the different modules activated"
   ]
  },
  {
   "cell_type": "code",
   "execution_count": 1,
   "metadata": {},
   "outputs": [],
   "source": [
    "%load_ext autoreload\n",
    "%autoreload 2\n",
    "\n",
    "import sys\n",
    "sys.path.append('/home/gurbain/hyq_ml')\n",
    "\n",
    "import matplotlib\n",
    "matplotlib.use('Qt5Agg')\n",
    "import matplotlib.pyplot as plt"
   ]
  },
  {
   "cell_type": "heading",
   "metadata": {},
   "level": 2,
   "source": [
    "Get the Data"
   ]
  },
  {
   "cell_type": "code",
   "execution_count": 2,
   "metadata": {},
   "outputs": [
    {
     "name": "stderr",
     "output_type": "stream",
     "text": [
      "Using TensorFlow backend.\n"
     ]
    },
    {
     "name": "stdout",
     "output_type": "stream",
     "text": [
      " ===== Collecting All Data ===== \n"
     ]
    },
    {
     "name": "stdout",
     "output_type": "stream",
     "text": [
      " ===== Data Collected! ===== \n"
     ]
    }
   ],
   "source": [
    "import network\n",
    "\n",
    "n_points = 3500\n",
    "n_curves = 3\n",
    "\n",
    "print(\" ===== Collecting All Data ===== \")\n",
    "\n",
    "# Trunk Controller enabled!\n",
    "nn_tc = network.NN(data_file=\"/home/gurbain/hyq_ml/data/sims/tc.pkl\", verbose=0)\n",
    "nn_tc.load_data()\n",
    "y_tc = nn_tc.y_train[0:n_points, 0:n_curves]\n",
    "t_tc = nn_tc.t[0:n_points]\n",
    "del nn_tc\n",
    "\n",
    "# Trunk Controller and Kinematic Adjustments enabled!\n",
    "nn_tc_kadj = network.NN(data_file=\"/home/gurbain/hyq_ml/data/sims/tc_kadj.pkl\", verbose=0)\n",
    "nn_tc_kadj.load_data()\n",
    "y_tc_kadj = nn_tc_kadj.y_train[0:n_points, 0:n_curves]\n",
    "t_tc_kadj = nn_tc_kadj.t[0:n_points]\n",
    "del nn_tc_kadj\n",
    "\n",
    "# Trunk Controller and Kinematic Adjustments and Push Recovery enabled!\n",
    "nn_tc_kadj_prec = network.NN(data_file=\"/home/gurbain/hyq_ml/data/sims/tc_kadj_prec.pkl\", verbose=0)\n",
    "nn_tc_kadj_prec.load_data()\n",
    "y_tc_kadj_prec = nn_tc_kadj_prec.y_train[0:n_points, 0:n_curves]\n",
    "t_tc_kadj_prec = nn_tc_kadj_prec.t[0:n_points]\n",
    "del nn_tc_kadj_prec\n",
    "\n",
    "# Trunk Controller and Kinematic Adjustments and Walk Adaptation enabled!\n",
    "nn_tc_kadj_adapt = network.NN(data_file=\"/home/gurbain/hyq_ml/data/sims/tc_kadj_adapt.pkl\", verbose=0)\n",
    "nn_tc_kadj_adapt.load_data()\n",
    "y_tc_kadj_adapt = nn_tc_kadj_adapt.y_train[0:n_points, 0:n_curves]\n",
    "t_tc_kadj_adapt = nn_tc_kadj_adapt.t[0:n_points]\n",
    "del nn_tc_kadj_adapt\n",
    "\n",
    "# Trunk Controller and Kinematic Adjustments and Walk Adaptation and Push Recovery enabled!\n",
    "nn_tc_kadj_adapt_prec = network.NN(data_file=\"/home/gurbain/hyq_ml/data/sims/tc_kadj_adapt_prec.pkl\", verbose=0)\n",
    "nn_tc_kadj_adapt_prec.load_data()\n",
    "y_tc_kadj_adapt_prec = nn_tc_kadj_adapt_prec.y_train[0:n_points, 0:n_curves]\n",
    "t_tc_kadj_adapt_prec = nn_tc_kadj_adapt_prec.t[0:n_points]\n",
    "del nn_tc_kadj_adapt_prec\n",
    "\n",
    "print(\" ===== Data Collected! ===== \")"
   ]
  },
  {
   "cell_type": "heading",
   "metadata": {},
   "level": 2,
   "source": [
    "Plot Desired Joint Action"
   ]
  },
  {
   "cell_type": "code",
   "execution_count": 11,
   "metadata": {
    "collapsed": true
   },
   "outputs": [],
   "source": [
    "from PyQt5 import QtWidgets\n",
    "width_tot = QtWidgets.QDesktopWidget().width()\n",
    "height = QtWidgets.QDesktopWidget().height()\n",
    "width2 = QtWidgets.QDesktopWidget().screenGeometry().width()\n",
    "width1 = width_tot - width2\n",
    "\n",
    "plt.figure()\n",
    "mngr = plt.get_current_fig_manager()\n",
    "mngr.window.setGeometry(0, 0, width1/2.0, height)\n",
    "plt.plot(t_tc, y_tc)\n",
    "plt.legend([\"HAA\", \"HFE\", \"KFE\"])\n",
    "plt.title(\"Trunk Controller\")\n",
    "plt.show()\n",
    "\n",
    "plt.figure()\n",
    "mngr = plt.get_current_fig_manager()\n",
    "mngr.window.setGeometry(width1/2.0, 0,  width1/2.0, height)\n",
    "plt.plot(t_tc_kadj, y_tc_kadj)\n",
    "plt.legend([\"HAA\", \"HFE\", \"KFE\"])\n",
    "plt.title(\"Trunk Controller + Kinematics Adjustments\")\n",
    "plt.show()\n",
    "\n",
    "plt.figure()\n",
    "mngr = plt.get_current_fig_manager()\n",
    "mngr.window.setGeometry(width1, 0,  width2/2.0, height)\n",
    "plt.plot(t_tc_kadj_prec, y_tc_kadj_prec)\n",
    "plt.legend([\"HAA\", \"HFE\", \"KFE\"])\n",
    "plt.title(\"Trunk Controller + Kinematics Adjustments + Push Recovery\")\n",
    "plt.show()\n",
    "\n",
    "plt.figure()\n",
    "mngr = plt.get_current_fig_manager()\n",
    "mngr.window.setGeometry(width1 + width2/2.0, 0,  width2/2.0, height)\n",
    "plt.plot(t_tc_kadj_adapt, y_tc_kadj_adapt)\n",
    "plt.legend([\"HAA\", \"HFE\", \"KFE\"])\n",
    "plt.title(\"Trunk Controller + Kinematics Adjustments + Walk Adaptation\")\n",
    "plt.show()\n",
    "\n",
    "# plt.figure()\n",
    "# plt.plot(t_tc_kadj_adapt_prec, y_tc_kadj_adapt_prec, label=\"TC + KADJ + ADAPT + PREC\")\n",
    "# plt.legend()\n",
    "# plt.show()"
   ]
  },
  {
   "cell_type": "heading",
   "metadata": {},
   "level": 2,
   "source": [
    "Close windows"
   ]
  },
  {
   "cell_type": "code",
   "execution_count": 12,
   "metadata": {},
   "outputs": [],
   "source": [
    "plt.close('all')"
   ]
  },
  {
   "cell_type": "heading",
   "metadata": {},
   "level": 2,
   "source": [
    "Plot Roll and Pitch States"
   ]
  },
  {
   "cell_type": "code",
   "execution_count": 54,
   "metadata": {},
   "outputs": [],
   "source": []
  },
  {
   "cell_type": "code",
   "execution_count": null,
   "metadata": {},
   "outputs": [],
   "source": []
  }
 ],
 "metadata": {},
 "nbformat": 4,
 "nbformat_minor": 0
}
